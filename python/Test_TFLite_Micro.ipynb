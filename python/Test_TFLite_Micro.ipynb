{
 "cells": [
  {
   "cell_type": "markdown",
   "metadata": {},
   "source": [
    "# Test inference on ESP32 microcontroller"
   ]
  },
  {
   "cell_type": "code",
   "execution_count": 1,
   "metadata": {},
   "outputs": [],
   "source": [
    "from __future__ import absolute_import, division, print_function, unicode_literals\n",
    "\n",
    "import glob\n",
    "import serial\n",
    "import time\n",
    "\n",
    "import numpy as np\n",
    "import tensorflow as tf\n",
    "\n",
    "from PIL import Image\n",
    "import matplotlib.pyplot as plt"
   ]
  },
  {
   "cell_type": "code",
   "execution_count": 2,
   "metadata": {},
   "outputs": [],
   "source": [
    "try:\n",
    "  %tensorflow_version 2.x\n",
    "except:\n",
    "  pass"
   ]
  },
  {
   "cell_type": "code",
   "execution_count": 3,
   "metadata": {},
   "outputs": [],
   "source": [
    "INPUT_IMAGE_SIZE = 14\n",
    "\n",
    "# Path to TensorFlow Lite model file\n",
    "tflite_model_file = 'model.tflite'\n",
    "\n",
    "# Path to images folder\n",
    "path = 'test_images_14x14/'\n",
    "file_format = \".jpg\"\n",
    "\n",
    "SERIAL_PORT_NAME = '/dev/ttyUSB0'\n",
    "\n",
    "EXPECTED_PRECISION = 0.000001"
   ]
  },
  {
   "cell_type": "code",
   "execution_count": 4,
   "metadata": {},
   "outputs": [],
   "source": [
    "def init_serial(port_name):\n",
    "    # Configure and open serial port\n",
    "    port = serial.Serial(\n",
    "        port=port_name,\n",
    "        baudrate=115200,\n",
    "        bytesize=serial.EIGHTBITS,\n",
    "        parity=serial.PARITY_NONE,\n",
    "        stopbits=serial.STOPBITS_ONE,\n",
    "        xonxoff=False,\n",
    "        rtscts=False,\n",
    "        dsrdtr=False\n",
    "    )\n",
    "    \n",
    "    port.reset_input_buffer()\n",
    "    port.reset_output_buffer()\n",
    "    return port"
   ]
  },
  {
   "cell_type": "code",
   "execution_count": 5,
   "metadata": {},
   "outputs": [],
   "source": [
    "def send_to_mcu(port, data):\n",
    "    bytes_written = port.write(data)\n",
    "    return bytes_written"
   ]
  },
  {
   "cell_type": "code",
   "execution_count": 6,
   "metadata": {},
   "outputs": [],
   "source": [
    "def read_result_from_mcu(port):\n",
    "    line = port.read_until()   # read a '\\n' terminated line\n",
    "    return line"
   ]
  },
  {
   "cell_type": "code",
   "execution_count": 7,
   "metadata": {},
   "outputs": [],
   "source": [
    "def infer_with_TF_lite(interpreter, input_details, output_details, raw_image):\n",
    "    # Get input size\n",
    "    input_shape = input_details[0]['shape']\n",
    "    size = input_shape[:2] if len(input_shape) == 3 else input_shape[1:3]\n",
    "\n",
    "    # Preprocess image\n",
    "    raw_image = raw_image.resize(size)\n",
    "    img = np.array(raw_image, dtype=np.float32)\n",
    "\n",
    "    # Normalize image\n",
    "    img = img / 255.\n",
    "\n",
    "    # Add a batch dimension and a dimension because we use grayscale format\n",
    "    # Reshape from (INPUT_IMAGE_SIZE, INPUT_IMAGE_SIZE) to (1, INPUT_IMAGE_SIZE, INPUT_IMAGE_SIZE, 1)\n",
    "    input_data = img.reshape(1, img.shape[0], img.shape[1], 1)\n",
    "    \n",
    "    # Point the data to be used for testing\n",
    "    interpreter.set_tensor(input_details[0]['index'], input_data)\n",
    "\n",
    "    # Run the interpreter\n",
    "    interpreter.invoke()\n",
    "\n",
    "    # Obtain results\n",
    "    predictions = interpreter.get_tensor(output_details[0]['index'])[0]\n",
    "    \n",
    "    return predictions"
   ]
  },
  {
   "cell_type": "code",
   "execution_count": 8,
   "metadata": {},
   "outputs": [],
   "source": [
    "def infer_with_MCU(raw_image):\n",
    "    img = np.array(raw_image, dtype=np.uint8)\n",
    "    bytes_sent = send_to_mcu(serial_port, img)\n",
    "    \n",
    "    response_str = read_result_from_mcu(serial_port)\n",
    "    response_str = response_str.decode(\"utf-8\")\n",
    "    predictions = np.fromstring(response_str, dtype=np.float32, sep=',')\n",
    "    return predictions"
   ]
  },
  {
   "cell_type": "code",
   "execution_count": 9,
   "metadata": {},
   "outputs": [],
   "source": [
    "def compare_results(result_tfl, result_mcu):\n",
    "    for i in range(len(result_tfl)):\n",
    "        if abs(result_tfl[i] - result_mcu[i]) > EXPECTED_PRECISION :\n",
    "            return False\n",
    "        else:\n",
    "            pass\n",
    "    return True"
   ]
  },
  {
   "cell_type": "code",
   "execution_count": 10,
   "metadata": {},
   "outputs": [],
   "source": [
    "# Create Interpreter (Load TFLite model).\n",
    "interpreter = tf.lite.Interpreter(model_path=tflite_model_file)\n",
    "# Allocate tensors\n",
    "interpreter.allocate_tensors()"
   ]
  },
  {
   "cell_type": "code",
   "execution_count": 11,
   "metadata": {},
   "outputs": [],
   "source": [
    "# Get input and output tensors.\n",
    "input_details = interpreter.get_input_details()\n",
    "output_details = interpreter.get_output_details()"
   ]
  },
  {
   "cell_type": "markdown",
   "metadata": {},
   "source": [
    "### Be sure your ESP32 board connected to development computer."
   ]
  },
  {
   "cell_type": "code",
   "execution_count": 12,
   "metadata": {},
   "outputs": [
    {
     "name": "stdout",
     "output_type": "stream",
     "text": [
      "[    0.000000] console [tty0] enabled\r\n",
      "[    1.229250] tty ttyS17: hash matches\r\n",
      "[  438.474326] usb 1-1: cp210x converter now attached to ttyUSB0\r\n"
     ]
    }
   ],
   "source": [
    "# Get list of present serial ports\n",
    "!dmesg | grep -e tty"
   ]
  },
  {
   "cell_type": "code",
   "execution_count": 13,
   "metadata": {},
   "outputs": [
    {
     "name": "stdout",
     "output_type": "stream",
     "text": [
      "Opened serial port : /dev/ttyUSB0\n"
     ]
    }
   ],
   "source": [
    "# Configure and open serial port\n",
    "serial_port = init_serial(SERIAL_PORT_NAME)\n",
    "\n",
    "# Check which port was really used\n",
    "print(\"Opened serial port : {0}\".format(serial_port.name))        "
   ]
  },
  {
   "cell_type": "code",
   "execution_count": 14,
   "metadata": {},
   "outputs": [
    {
     "name": "stdout",
     "output_type": "stream",
     "text": [
      "Found 50 .jpg files\n"
     ]
    }
   ],
   "source": [
    "files = [files for files in glob.glob(path + \"*\" + file_format, recursive=False)]\n",
    "print(\"Found {0} {1} files\".format(len(files), file_format))"
   ]
  },
  {
   "cell_type": "markdown",
   "metadata": {},
   "source": [
    "### Run inference on TensorFlow Lite model and on MCU. Compare results."
   ]
  },
  {
   "cell_type": "code",
   "execution_count": 15,
   "metadata": {
    "scrolled": false
   },
   "outputs": [
    {
     "name": "stdout",
     "output_type": "stream",
     "text": [
      "For file: test_images_14x14/shirt_9.jpg - Ok\n",
      "For file: test_images_14x14/coat_8.jpg - Ok\n",
      "For file: test_images_14x14/trouser_14.jpg - Ok\n",
      "For file: test_images_14x14/dress_12.jpg - Ok\n",
      "For file: test_images_14x14/trouser_0.jpg - Ok\n",
      "For file: test_images_14x14/shirt_33.jpg - Ok\n",
      "For file: test_images_14x14/ankle boot_49.jpg - Ok\n",
      "For file: test_images_14x14/bag_29.jpg - Ok\n",
      "For file: test_images_14x14/sneaker_44.jpg - Ok\n",
      "For file: test_images_14x14/dress_46.jpg - Ok\n",
      "For file: test_images_14x14/pullover_23.jpg - Ok\n",
      "For file: test_images_14x14/coat_27.jpg - Ok\n",
      "For file: test_images_14x14/trouser_2.jpg - Ok\n",
      "For file: test_images_14x14/pullover_36.jpg - Ok\n",
      "For file: test_images_14x14/dress_11.jpg - Ok\n",
      "For file: test_images_14x14/dress_45.jpg - Ok\n",
      "For file: test_images_14x14/trouser_30.jpg - Ok\n",
      "For file: test_images_14x14/shirt_6.jpg - Ok\n",
      "For file: test_images_14x14/sandal_20.jpg - Ok\n",
      "For file: test_images_14x14/sandal_32.jpg - Ok\n",
      "For file: test_images_14x14/bag_15.jpg - Ok\n",
      "For file: test_images_14x14/shirt_3.jpg - Ok\n",
      "For file: test_images_14x14/t-shirt_top_43.jpg - Ok\n",
      "For file: test_images_14x14/bag_34.jpg - Ok\n",
      "For file: test_images_14x14/coat_42.jpg - Ok\n",
      "For file: test_images_14x14/dress_21.jpg - Ok\n",
      "For file: test_images_14x14/pullover_39.jpg - Ok\n",
      "For file: test_images_14x14/bag_5.jpg - Ok\n",
      "For file: test_images_14x14/sneaker_10.jpg - Ok\n",
      "For file: test_images_14x14/sneaker_31.jpg - Ok\n",
      "For file: test_images_14x14/bag_24.jpg - Ok\n",
      "For file: test_images_14x14/dress_1.jpg - Ok\n",
      "For file: test_images_14x14/sandal_28.jpg - Ok\n",
      "For file: test_images_14x14/sandal_47.jpg - Ok\n",
      "For file: test_images_14x14/pullover_48.jpg - Ok\n",
      "For file: test_images_14x14/sandal_17.jpg - Ok\n",
      "For file: test_images_14x14/pullover_26.jpg - Ok\n",
      "For file: test_images_14x14/shirt_4.jpg - Ok\n",
      "For file: test_images_14x14/bag_25.jpg - Ok\n",
      "For file: test_images_14x14/ankle boot_13.jpg - Ok\n",
      "For file: test_images_14x14/sneaker_40.jpg - Ok\n",
      "For file: test_images_14x14/sneaker_19.jpg - Ok\n",
      "For file: test_images_14x14/bag_7.jpg - Ok\n",
      "For file: test_images_14x14/coat_35.jpg - Ok\n",
      "For file: test_images_14x14/ankle boot_18.jpg - Ok\n",
      "For file: test_images_14x14/sneaker_22.jpg - Ok\n",
      "For file: test_images_14x14/shirt_38.jpg - Ok\n",
      "For file: test_images_14x14/t-shirt_top_41.jpg - Ok\n",
      "For file: test_images_14x14/ankle boot_16.jpg - Ok\n",
      "For file: test_images_14x14/sneaker_37.jpg - Ok\n"
     ]
    }
   ],
   "source": [
    "for f in files:\n",
    "    # Read image\n",
    "    raw_image = Image.open(f).convert('L')\n",
    "    \n",
    "    result_tfl = infer_with_TF_lite(interpreter, input_details, output_details, raw_image)\n",
    "\n",
    "    result_mcu = infer_with_MCU(raw_image)\n",
    "\n",
    "    status = compare_results(result_tfl, result_mcu)\n",
    "    status_str = \"Ok\" if status else \"Reults NOT eqal!\"\n",
    "    print(\"For file: {0} - {1}\".format(f, status_str))"
   ]
  },
  {
   "cell_type": "code",
   "execution_count": 16,
   "metadata": {},
   "outputs": [],
   "source": [
    "serial_port.close()"
   ]
  }
 ],
 "metadata": {
  "kernelspec": {
   "display_name": "jupyter_server",
   "language": "python",
   "name": "jupyter_server"
  },
  "language_info": {
   "codemirror_mode": {
    "name": "ipython",
    "version": 3
   },
   "file_extension": ".py",
   "mimetype": "text/x-python",
   "name": "python",
   "nbconvert_exporter": "python",
   "pygments_lexer": "ipython3",
   "version": "3.7.6"
  }
 },
 "nbformat": 4,
 "nbformat_minor": 4
}
